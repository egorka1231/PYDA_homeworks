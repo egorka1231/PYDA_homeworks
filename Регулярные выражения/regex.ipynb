{
 "cells": [
  {
   "cell_type": "markdown",
   "metadata": {},
   "source": [
    "\n",
    "***Задание 1***\n",
    "\n",
    "Напишите функцию, которая принимает на вход строку и проверяет является ли она валидным транспортным номером (1 буква, 3 цифры, 2 буквы, 2-3 цифры). Обратите внимание, что не все буквы кириллического алфавита используются в транспортных номерах.\n",
    "\n",
    "Если номер валиден, то функция должна возвращать отдельно номер и регион.\n",
    "\n",
    "Примеры работы программы:\n",
    "\n",
    "    car_id = 'АВ222С96'\n",
    "\n",
    "Результат: Номер АВ222С валиден. Регион: 96\n",
    "\n",
    "    car_id = 'АБ22ВВ193'\n",
    "\n",
    "Результат: Номер не валиден\n"
   ]
  },
  {
   "cell_type": "code",
   "execution_count": 149,
   "metadata": {},
   "outputs": [
    {
     "name": "stdout",
     "output_type": "stream",
     "text": [
      "Введите номер автомобиля: \n"
     ]
    },
    {
     "data": {
      "text/plain": [
       "'Номер не валиден'"
      ]
     },
     "execution_count": 149,
     "metadata": {},
     "output_type": "execute_result"
    }
   ],
   "source": [
    "#Ввод кириллицей\n",
    "\n",
    "import re\n",
    "number_input = input('Введите номер автомобиля: ')\n",
    "def check_number():\n",
    "    number = number_input.upper()\n",
    "    try:\n",
    "        number = re.findall(r'([А,В,Е,К,М,Н,О,Р,С,Т,У,Х]\\d{3}[А,В,Е,К,М,Н,О,Р,С,Т,У,Х]{2})(\\d{2,3})', number)\n",
    "        return f'Номер {number[0][0]} валиден. Регион: {number[0][1]}'\n",
    "    except:\n",
    "        return 'Номер не валиден'\n",
    "check_number()\n",
    "\n",
    "\n",
    "#а977от197\n",
    "#А378НУ98"
   ]
  },
  {
   "cell_type": "markdown",
   "metadata": {},
   "source": [
    "**Задание 2**. \n",
    "\n",
    "Напишите функцию, которая будет удалять все последовательные повторы слов из заданной строки при помощи регулярных выражений.\n",
    "\n",
    "Пример работы программы:\n",
    "\n",
    "some_string = 'Напишите функцию функцию, которая будет будет будет будет удалять все все все все последовательные повторы слов из из из из заданной строки строки при помощи регулярных выражений'\n",
    "\n",
    "Результат: Напишите функцию, которая будет удалять все последовательные повторы слов из заданной строки при помощи регулярных выражений."
   ]
  },
  {
   "cell_type": "code",
   "execution_count": 56,
   "metadata": {},
   "outputs": [
    {
     "data": {
      "text/plain": [
       "'Напишите функцию2 111, которая будет удалять все последовательные повторы слов из заданной строки при помощи регулярных выражений'"
      ]
     },
     "execution_count": 56,
     "metadata": {},
     "output_type": "execute_result"
    }
   ],
   "source": [
    "import re\n",
    "some_string = 'Напишите функцию2 функцию2 111 111, которая будет будет будет будет будет удалять все все все все последовательные повторы слов из из из из заданной строки строки при помощи регулярных выражений'\n",
    "def delete_duplicates():\n",
    "    new_string = re.sub(r'(\\w+)( \\1)+', r'\\1', some_string)\n",
    "    return new_string\n",
    "delete_duplicates()"
   ]
  },
  {
   "cell_type": "markdown",
   "metadata": {},
   "source": [
    "**Задание 3.** \n",
    "\n",
    "Напишите функцию, которая будет возвращать акроним по переданной в нее строке со словами.\n",
    "\n",
    "Примеры работы программы:\n",
    "\n",
    "    some_words = 'Информационные технологии'\n",
    "\n",
    "Результат: ИТ\n",
    "\n",
    "    some_words = 'Near Field Communication'\n",
    "\n",
    "Результат: NFC"
   ]
  },
  {
   "cell_type": "code",
   "execution_count": 255,
   "metadata": {},
   "outputs": [
    {
     "name": "stdout",
     "output_type": "stream",
     "text": [
      "ВВСIYS"
     ]
    }
   ],
   "source": [
    "import re\n",
    "some_words = 'Введите вашу строку, Input Your String'\n",
    "def acronym():\n",
    "    first_letters = re.findall(r'\\b\\w', some_words.upper())\n",
    "    for letter in first_letters:\n",
    "        print(letter, end='')\n",
    "acronym()"
   ]
  },
  {
   "cell_type": "markdown",
   "metadata": {},
   "source": [
    "**Задание 4**\n",
    "\n",
    "Напишите функцию, которая будет принимать на вход список email-адресов и выводить их распределение по доменным зонам.\n",
    "\n",
    "Пример работы программы:\n",
    "\n",
    "emails = ['test@gmail.com, xyz@test.in, test@ya.ru, xyz@mail.ru, xyz@ya.ru', xyz@gmail.com]\n",
    "\n",
    "Результат:\n",
    "\n",
    "gmail.com: 2\n",
    "test.in: 1 \n",
    "ya.ru: 2 \n",
    "mail.ru: 1\n",
    "\n"
   ]
  },
  {
   "cell_type": "code",
   "execution_count": 2,
   "metadata": {},
   "outputs": [
    {
     "name": "stdout",
     "output_type": "stream",
     "text": [
      "gmail.com: 3\n",
      "test.in: 1\n",
      "ya.ru: 2\n",
      "mail.ru: 1\n"
     ]
    }
   ],
   "source": [
    "import re\n",
    "emails = ['test@gmail.com', 'xyz@test.in', 'test@ya.ru', 'xyz@mail.ru', 'xyz@ya.ru', 'xyz@gmail.com', 'test@gmail.com']\n",
    "#(emails[0])\n",
    "def email_org():\n",
    "    domain_list = []\n",
    "    zone = {}\n",
    "    for email in emails:\n",
    "        domain_list.append((re.findall(r'(?<=@)\\w+\\.\\w+', email)))\n",
    "#    print(domain_list)\n",
    "    for domain in domain_list:\n",
    "        if domain[0] in zone:\n",
    "            zone[domain[0]] += 1\n",
    "        else:\n",
    "            zone[domain[0]] = 1\n",
    "    for domain_name, count in zone.items():\n",
    "        print(f'{domain_name}: {count}')\n",
    "    return\n",
    "email_org()"
   ]
  },
  {
   "cell_type": "markdown",
   "metadata": {},
   "source": [
    "**Задание 5 (необязательное)**\n",
    "\n",
    "Напишите функцию, которая будет подсчитывать сколько слов начинается на гласные, а сколько на согласные буквы в тексте (текст может быть написан как с использованием букв кириллицы, так и латиницы).\n",
    "\n",
    "Пример работы программы:\n",
    "\n",
    "some_text = 'Эталонной реализацией Python является интерпретатор CPython, поддерживающий большинство активно используемых платформ. Он распространяется под свободной лицензией Python Software Foundation License, позволяющей использовать его без ограничений в любых приложениях, включая проприетарные.'\n",
    "\n",
    "Результат:\n",
    "\n",
    "Слов на гласные буквы: 9\n",
    "Слов на согласные буквы: 21"
   ]
  },
  {
   "cell_type": "code",
   "execution_count": 279,
   "metadata": {},
   "outputs": [
    {
     "name": "stdout",
     "output_type": "stream",
     "text": [
      "Слов на гласные буквы: 10. Слов на согласные буквы: 21\n"
     ]
    }
   ],
   "source": [
    "import re\n",
    "some_text = 'Эталонной реализацией Python Awards является интерпретатор CPython, поддерживающий большинство активно используемых платформ. Он распространяется под свободной лицензией Python Software Foundation License, позволяющей использовать его без ограничений в любых приложениях, включая проприетарные.'\n",
    "def letter_counter():\n",
    "    first_letters = ''.join(re.findall(r'\\b\\w', some_text.lower()))\n",
    "#     print(first_letters)\n",
    "\n",
    "    vovels_eng = re.findall(r'([aeiouy])', first_letters)\n",
    "    consonants_eng = re.findall(r'([bcdfghjklmnpqrstuvwxz])', first_letters)\n",
    "    vovels_rus = re.findall(r'([аеёиоуыэюя])', first_letters)\n",
    "    consonants_rus = re.findall(r'([бвгджзйклмнпрстфхцчшщ])', first_letters)\n",
    "#     print(len(vovels_eng)\n",
    "#     print(len(consonants_eng))\n",
    "#     print(len(vovels_rus))\n",
    "#     print(len(consonants_rus))\n",
    "    print(f'Слов на гласные буквы: {len(vovels_eng + vovels_rus)}. Слов на согласные буквы: {len(consonants_eng + consonants_rus)}')\n",
    "    return\n",
    "letter_counter()"
   ]
  },
  {
   "cell_type": "markdown",
   "metadata": {},
   "source": [
    "**Задание 6 (необязательное)**\n",
    "\n",
    "Напишите функцию, которая будет проверять номер сотового телефона на валидность, если он валиден, то переводить его в формат:\n",
    "+7-xxx-xxx-xx-xx\n",
    "Постарайтесь предусмотреть как можно больше адекватных форматов изначального ввода номера. Примеры работы программы:\n",
    "\n",
    "    phone = '+7 955 555-55-55'\n",
    "\n",
    "Результат: +7-950-555-55-55\n",
    "\n",
    "    phone = '8(955)555-55-55'\n",
    "\n",
    "Результат: +7-950-555-55-55\n",
    "\n",
    "    phone = '+7 955 555 55 55'\n",
    "\n",
    "Результат: +7-950-555-55-55\n",
    "\n",
    "    phone = '7(955) 555-55-55'\n",
    "\n",
    "Результат: +7-950-555-55-55\n",
    "\n",
    "    phone = '423-555-55-5555'\n",
    "\n",
    "Результат: Номер не валиден\n",
    "\n",
    "    phone = '123-456-789'\n",
    "\n",
    "Результат: Номер не валиден"
   ]
  },
  {
   "cell_type": "code",
   "execution_count": 144,
   "metadata": {},
   "outputs": [
    {
     "name": "stdout",
     "output_type": "stream",
     "text": [
      "+7-955-555-55-55\n"
     ]
    },
    {
     "data": {
      "text/plain": [
       "'+7-955-555-55-55'"
      ]
     },
     "execution_count": 144,
     "metadata": {},
     "output_type": "execute_result"
    }
   ],
   "source": [
    "import re\n",
    "phone = '7(955) 555-55-55'\n",
    "def phone_remake():\n",
    "    new_phone = re.sub(r'(8|\\+7|7)(\\W+)(\\d{3})(\\W+)(\\d{3})(\\W+)(\\d{2})(\\W+)(\\d{2})',r'+7-\\3-\\5-\\7-\\9', phone)\n",
    "    print(new_phone)\n",
    "    if '+7' in new_phone:\n",
    "        return new_phone\n",
    "    return f'Номер \"{phone}\" не валиден'\n",
    "phone_remake()"
   ]
  },
  {
   "cell_type": "code",
   "execution_count": null,
   "metadata": {},
   "outputs": [],
   "source": []
  }
 ],
 "metadata": {
  "kernelspec": {
   "display_name": "Python 3",
   "language": "python",
   "name": "python3"
  },
  "language_info": {
   "codemirror_mode": {
    "name": "ipython",
    "version": 3
   },
   "file_extension": ".py",
   "mimetype": "text/x-python",
   "name": "python",
   "nbconvert_exporter": "python",
   "pygments_lexer": "ipython3",
   "version": "3.7.7"
  }
 },
 "nbformat": 4,
 "nbformat_minor": 2
}
