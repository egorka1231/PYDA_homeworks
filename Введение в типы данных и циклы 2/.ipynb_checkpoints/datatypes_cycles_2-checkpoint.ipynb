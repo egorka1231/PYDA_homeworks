{
 "cells": [
  {
   "cell_type": "markdown",
   "metadata": {},
   "source": [
    "**Задание 1**. Дан список с визитами по городам и странам. \n",
    "Напишите код, который возвращает отфильтрованный список geo_logs, содержащий только визиты из России."
   ]
  },
  {
   "cell_type": "code",
   "execution_count": 62,
   "metadata": {},
   "outputs": [
    {
     "name": "stdout",
     "output_type": "stream",
     "text": [
      "[{'visit1': ['Москва', 'Россия']}, {'visit3': ['Владимир', 'Россия']}, {'visit7': ['Тула', 'Россия']}, {'visit8': ['Тула', 'Россия']}, {'visit9': ['Курск', 'Россия']}, {'visit10': ['Архангельск', 'Россия']}]\n"
     ]
    }
   ],
   "source": [
    "geo_logs = [\n",
    "    {'visit1': ['Москва', 'Россия']},\n",
    "    {'visit2': ['Дели', 'Индия']},\n",
    "    {'visit3': ['Владимир', 'Россия']},\n",
    "    {'visit4': ['Лиссабон', 'Португалия']},\n",
    "    {'visit5': ['Париж', 'Франция']},\n",
    "    {'visit6': ['Лиссабон', 'Португалия']},\n",
    "    {'visit7': ['Тула', 'Россия']},\n",
    "    {'visit8': ['Тула', 'Россия']},\n",
    "    {'visit9': ['Курск', 'Россия']},\n",
    "    {'visit10': ['Архангельск', 'Россия']}\n",
    "]\n",
    "geo_logs_rus = []\n",
    "for visit in geo_logs:\n",
    "    for dest in visit.values():\n",
    "        if dest[1] == 'Россия':\n",
    "            geo_logs_rus.append(visit)\n",
    "print(geo_logs_rus)"
   ]
  },
  {
   "cell_type": "markdown",
   "metadata": {},
   "source": [
    "**Задание 2**. Выведите на экран все уникальные гео-ID из значений словаря ids. Т. е. список вида [213, 15, 54, 119, 98, 35]"
   ]
  },
  {
   "cell_type": "code",
   "execution_count": 57,
   "metadata": {},
   "outputs": [
    {
     "name": "stdout",
     "output_type": "stream",
     "text": [
      "[213, 15, 54, 119, 98, 35]\n"
     ]
    }
   ],
   "source": [
    "ids = {'user1': [213, 213, 213, 15, 213], \n",
    "       'user2': [54, 54, 119, 119, 119], \n",
    "       'user3': [213, 98, 98, 35]}\n",
    "\n",
    "geo_id = []\n",
    "for geo in ids.values():\n",
    "     for i in geo:\n",
    "        if i not in geo_id:\n",
    "            geo_id.append(i)\n",
    "#    geo_id = [i for i in geo if i not in geo_id]\n",
    "print(geo_id)\n",
    "\n"
   ]
  },
  {
   "cell_type": "markdown",
   "metadata": {},
   "source": [
    "**Задание 3**. Дан список поисковых запросов. Получить распределение количества слов в них. \n",
    "Т. е. поисковых запросов из одного - слова 5%, из двух - 7%, из трех - 3% и т.д."
   ]
  },
  {
   "cell_type": "code",
   "execution_count": 59,
   "metadata": {},
   "outputs": [
    {
     "name": "stdout",
     "output_type": "stream",
     "text": [
      "[3, 2, 2, 2, 3, 3, 3, 1, 1, 4]\n",
      "Доля поисковых запросов из 1 слов(-а) составляет 20.0 % от общего количества запросов 10\n",
      "Доля поисковых запросов из 2 слов(-а) составляет 30.0 % от общего количества запросов 10\n",
      "Доля поисковых запросов из 3 слов(-а) составляет 40.0 % от общего количества запросов 10\n",
      "Доля поисковых запросов из 4 слов(-а) составляет 10.0 % от общего количества запросов 10\n"
     ]
    }
   ],
   "source": [
    "queries = [\n",
    "    'смотреть сериалы онлайн',\n",
    "    'новости спорта',\n",
    "    'афиша кино',\n",
    "    'курс доллара',\n",
    "    'сериалы этим летом',\n",
    "    'курс по питону',\n",
    "    'сериалы про спорт',\n",
    "    'python',\n",
    "    'python2',\n",
    "    'один два три четыре'\n",
    "]\n",
    "\n",
    "#word_count = [len(request.split() for request in queries]\n",
    "word_count = []\n",
    "for request in queries:\n",
    "    word_count.append(len(request.split()))  \n",
    "print(word_count)\n",
    "# print(len(word_count))\n",
    "word_count.count(2)\n",
    "for x in set(word_count):\n",
    "    new_dict = {x:word_count.count(x)}\n",
    "    for total_words, quantity in new_dict.items():\n",
    "        print('Доля поисковых запросов из', total_words, 'слов(-а) составляет', round(quantity/len(word_count)*100,2), '% от общего количества запросов', len(word_count))\n",
    "        \n",
    "        \n"
   ]
  },
  {
   "cell_type": "markdown",
   "metadata": {},
   "source": [
    "**Задание 4**. Дана статистика рекламных каналов по объемам продаж. Напишите скрипт, который возвращает название канала с максимальным объемом.\n",
    "Т. е. в данном примере скрипт должен возвращать 'yandex'."
   ]
  },
  {
   "cell_type": "code",
   "execution_count": 30,
   "metadata": {},
   "outputs": [
    {
     "name": "stdout",
     "output_type": "stream",
     "text": [
      "{'yandex'}\n"
     ]
    }
   ],
   "source": [
    "stats = {'facebook': 55, 'yandex': 120, 'vk': 115, 'google': 99, 'email': 42, 'ok': 98}\n",
    "\n",
    "result = {channel for channel, value in stats.items() if value == max(stats.values())}\n",
    "print(result)"
   ]
  },
  {
   "cell_type": "markdown",
   "metadata": {},
   "source": [
    "**Задание 5**. Напишите код для преобразования произвольного списка вида ['2018-01-01', 'yandex', 'cpc', 100] (он может быть любой длины) в словарь {'2018-01-01': {'yandex': {'cpc': 100}}}"
   ]
  },
  {
   "cell_type": "code",
   "execution_count": 61,
   "metadata": {},
   "outputs": [
    {
     "name": "stdout",
     "output_type": "stream",
     "text": [
      "{'2018-01-01': {'yandex': {'cpc': {100: {32: {'ffsdfsd': 'fasfdsf|'}}}}}}\n"
     ]
    }
   ],
   "source": [
    "#Неверное решение. Жалко удалять. \n",
    "# Правильный ответ в следующей ячейке\n",
    "# I did IT\n",
    "random_list = ['2018-01-01', 'yandex', 'cpc', 100, 32, 'ffsdfsd', 'fasfdsf|']\n",
    "a = len(random_list)\n",
    "random_dict = {}\n",
    "new_dict = random_dict\n",
    "for i in random_list[:-2]:\n",
    "    random_dict[i] = {}\n",
    "    random_dict = random_dict[i]\n",
    "random_dict.update({random_list[-2] : random_list[-1]})\n",
    "print(new_dict)"
   ]
  },
  {
   "cell_type": "code",
   "execution_count": 60,
   "metadata": {},
   "outputs": [
    {
     "name": "stdout",
     "output_type": "stream",
     "text": [
      "{'2018-01-01': {'yandex': {'cpc': {100: {5235: 'fsf'}}}}}\n"
     ]
    }
   ],
   "source": [
    "# Верное решение. Пару часов изучения \n",
    "random_list = ['2018-01-01', 'yandex', 'cpc', 100, 5235, 'fsf']\n",
    "a = len(random_list)\n",
    "value = random_list[a-1]\n",
    "for i in reversed(random_list[:-1]):\n",
    "    value = {i:value}\n",
    "print(value)"
   ]
  },
  {
   "cell_type": "code",
   "execution_count": null,
   "metadata": {},
   "outputs": [],
   "source": []
  }
 ],
 "metadata": {
  "kernelspec": {
   "display_name": "Python 3",
   "language": "python",
   "name": "python3"
  },
  "language_info": {
   "codemirror_mode": {
    "name": "ipython",
    "version": 3
   },
   "file_extension": ".py",
   "mimetype": "text/x-python",
   "name": "python",
   "nbconvert_exporter": "python",
   "pygments_lexer": "ipython3",
   "version": "3.7.7"
  }
 },
 "nbformat": 4,
 "nbformat_minor": 2
}
