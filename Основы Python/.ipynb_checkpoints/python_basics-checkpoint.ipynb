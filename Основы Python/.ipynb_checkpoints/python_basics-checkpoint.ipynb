{
 "cells": [
  {
   "cell_type": "markdown",
   "metadata": {},
   "source": [
    "**Задание 1**. Даны 2 строки: *long_phrase* и *short_phrase*. \n",
    "Напишите код, который проверяет действительно ли длинная фраза *long_phrase* длиннее короткой *short_phrase*. И выводит *True* или *False* в зависимости от результата сравнения."
   ]
  },
  {
   "cell_type": "code",
   "execution_count": 1,
   "metadata": {},
   "outputs": [
    {
     "name": "stdout",
     "output_type": "stream",
     "text": [
      "long_phrase: 62 букв(-ы)\n",
      "short_phrase: 61 букв(-ы)\n",
      "True\n"
     ]
    }
   ],
   "source": [
    "long_phrase = 'Насколько проще было бы писать программы, если бы не заказчики'\n",
    "short_phrase = '640Кб должно хватить для любых задач. Билл Гейтс (по легенде)'\n",
    "print('long_phrase:', len(long_phrase), 'букв(-ы)')\n",
    "print('short_phrase:', len(short_phrase), 'букв(-ы)')\n",
    "\n",
    "print(len(short_phrase) < len(long_phrase))"
   ]
  },
  {
   "cell_type": "markdown",
   "metadata": {},
   "source": [
    "**Задание 2**. Дано значение объема файла в байтах (*в мегабайте 2^20 байт*). Напишите перевод этого значения в мегабайты в формате: \"*Объем файла равен 213.68Mb*\"."
   ]
  },
  {
   "cell_type": "code",
   "execution_count": 2,
   "metadata": {},
   "outputs": [
    {
     "name": "stdout",
     "output_type": "stream",
     "text": [
      "Введите размер файла в байтах 100000000000000000\n",
      "Объем файла равен 95367431640.625Mb\n"
     ]
    }
   ],
   "source": [
    "bt = int(input('Введите размер файла в байтах '))\n",
    "mbt = bt / 2**20\n",
    "print('Объем файла равен ', mbt,'Mb',sep='')"
   ]
  },
  {
   "cell_type": "markdown",
   "metadata": {},
   "source": [
    "**Задание 3**. Разработать приложение для определения знака зодиака по дате рождения. Пример:\n",
    "\n",
    "Введите месяц: март\n",
    "\n",
    "Введите число: 6\n",
    "\n",
    "Вывод:\n",
    "Рыбы"
   ]
  },
  {
   "cell_type": "code",
   "execution_count": 3,
   "metadata": {},
   "outputs": [
    {
     "name": "stdout",
     "output_type": "stream",
     "text": [
      "Введите месяц: май\n",
      "Введите число: 14\n",
      "Вывод: Телец\n"
     ]
    }
   ],
   "source": [
    "month = input('Введите месяц: ')\n",
    "date = int(input('Введите число: '))\n",
    "if (month == 'март'  and date >= 21) or (month == 'апрель' and date <= 19):\n",
    "    print('Вывод: Овен')\n",
    "elif (month == 'апрель'  and date >= 20) or (month == 'май' and date <= 20):\n",
    "    print('Вывод: Телец')\n",
    "elif (month == 'май'  and date >= 21) or (month == 'июнь' and date <= 21):\n",
    "    print('Вывод: Близнецы')\n",
    "elif (month == 'июнь'  and date >= 22) or (month == 'июль' and date <= 22):\n",
    "    print('Вывод: Рак')\n",
    "elif (month == 'июль'  and date >= 23) or (month == 'август' and date <= 22):\n",
    "    print('Вывод: Лев')\n",
    "elif (month == 'август'  and date >= 23) or (month == 'сентябрь' and date <= 22):\n",
    "    print('Вывод: Дева')\n",
    "elif (month == 'сентябрь'  and date >= 23) or (month == 'октябрь' and date <= 23):\n",
    "    print('Вывод: Весы')\n",
    "elif (month == 'октябрь'  and date >= 24) or (month == 'ноябрь' and date <= 22):\n",
    "    print('Вывод: Скорпион')\n",
    "elif (month == 'ноябрь'  and date >= 23) or (month == 'декабрь' and date <= 21):\n",
    "    print('Вывод: Стрелец')\n",
    "elif (month == 'декабрь'  and date >= 22) or (month == 'январь' and date <= 20):\n",
    "    print('Вывод: Козерог')\n",
    "elif (month == 'январь'  and date >= 21) or (month == 'февраль' and date <= 18):\n",
    "    print('Вывод: Водолей')\n",
    "elif (month == 'февраль'  and date >= 19) or (month == 'март' and date <= 20):\n",
    "    print('Вывод: Рыбы')\n",
    "else: \n",
    "    print('Проверьте правильность ввода!')\n"
   ]
  },
  {
   "cell_type": "markdown",
   "metadata": {},
   "source": [
    "**Задание 4**. Нужно разработать приложение для финансового планирования.\n",
    "Приложение учитывает сколько уходит на ипотеку, \"на жизнь\" и сколько нужно отложить на пенсию.\n",
    "Пользователь вводит:\n",
    "- заработанную плату в месяц.\n",
    "- сколько процентов от ЗП уходит на ипотеку.\n",
    "- сколько процентов от ЗП уходит \"на жизнь\".\n",
    "- сколько раз приходит премия в год.\n",
    "\n",
    "Остальная часть заработанной платы откладывается на пенсию.\n",
    "\n",
    "Также пользователю приходит премия в размере зарплаты, от которой половина уходит на отпуск, а вторая половина откладывается.\n",
    "\n",
    "Программа должна учитывать сколько премий было в год.\n",
    "\n",
    "Нужно вывести сколько денег тратит пользователь на ипотеку и сколько он накопит за год.\n",
    "\n",
    "Пример:\n",
    "\n",
    "Введите заработанную плату в месяц: 100000\n",
    "\n",
    "Введите сколько процентов уходит на ипотеку: 30\n",
    "\n",
    "Введите сколько процентов уходит на жизнь: 50\n",
    "\n",
    "Введите количество премий за год: 2\n",
    "\n",
    "Вывод:\n",
    "На ипотеку было потрачено: 360000 рублей\n",
    "Было накоплено: 340000 рублей"
   ]
  },
  {
   "cell_type": "code",
   "execution_count": 4,
   "metadata": {},
   "outputs": [
    {
     "name": "stdout",
     "output_type": "stream",
     "text": [
      "Введите заработанную плату в месяц: 100000\n",
      "Введите сколько процентов уходит на ипотеку: 30\n",
      "Введите сколько процентов уходит на жизнь: 110\n",
      "Введите количество премий за год: 0\n",
      "На ипотеку было потрачено: 360000.0 рублей Было накоплено: -480000.0 рублей\n"
     ]
    }
   ],
   "source": [
    "salary = int(input('Введите заработанную плату в месяц: '))\n",
    "mortgage = int(input('Введите сколько процентов уходит на ипотеку: '))\n",
    "life = int(input('Введите сколько процентов уходит на жизнь: '))\n",
    "extra = int(input('Введите количество премий за год: '))\n",
    "\n",
    "mortgage_year = salary*mortgage/100*12\n",
    "pension_month = salary - salary*mortgage/100 - salary*life/100 \n",
    "pension_year = (pension_month * 12) + extra*salary/2\n",
    "print('На ипотеку было потрачено:', mortgage_year,'рублей', 'Было накоплено:', pension_year, 'рублей')"
   ]
  }
 ],
 "metadata": {
  "kernelspec": {
   "display_name": "Python 3",
   "language": "python",
   "name": "python3"
  },
  "language_info": {
   "codemirror_mode": {
    "name": "ipython",
    "version": 3
   },
   "file_extension": ".py",
   "mimetype": "text/x-python",
   "name": "python",
   "nbconvert_exporter": "python",
   "pygments_lexer": "ipython3",
   "version": "3.7.7"
  }
 },
 "nbformat": 4,
 "nbformat_minor": 2
}
