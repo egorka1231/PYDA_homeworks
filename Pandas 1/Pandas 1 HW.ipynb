{
 "cells": [
  {
   "cell_type": "markdown",
   "metadata": {},
   "source": [
    "## Задание 1\n",
    "\n",
    "Скачайте с сайта https://grouplens.org/datasets/movielens/ датасет любого размера. Определите какому фильму было выставлено больше всего оценок 5.0."
   ]
  },
  {
   "cell_type": "code",
   "execution_count": 29,
   "metadata": {},
   "outputs": [],
   "source": [
    "import pandas as pd"
   ]
  },
  {
   "cell_type": "code",
   "execution_count": 160,
   "metadata": {},
   "outputs": [
    {
     "name": "stdout",
     "output_type": "stream",
     "text": [
      "Больше всего оценок 5.0 у фильма:\n",
      "277    Shawshank Redemption, The (1994)\n",
      "Name: title, dtype: object\n"
     ]
    }
   ],
   "source": [
    "ratings = pd.read_csv('ml-latest-small/ratings.csv').filter(items = ['movieId', 'rating'])\n",
    "ratings_five = ratings[ (ratings['rating']== 5)]\n",
    "movies_five_rating = {}\n",
    "\n",
    "#Определение обладателя самого большого количества \"пятерок\". На выходе имеем ID\n",
    "for movie in ratings_five['movieId']:\n",
    "    if movie in movies_five_rating:\n",
    "        movies_five_rating[movie] += 1\n",
    "    else:\n",
    "        movies_five_rating[movie] = 1\n",
    "max_five_movie_id = max(movies_five_rating, key=movies_five_rating.get)\n",
    "\n",
    "#В соседнем файле по ID выводим название фильма\n",
    "movies = pd.read_csv('ml-latest-small/movies.csv').filter(items = ['movieId', 'title'])\n",
    "movie_name = movies[(movies['movieId']== max_five_movie_id)]['title']\n",
    "print('Больше всего оценок 5.0 у фильма:', movie_name, sep='\\n')\n"
   ]
  },
  {
   "cell_type": "markdown",
   "metadata": {},
   "source": [
    "## Задание 2\n",
    "\n",
    "По данным файла power.csv посчитайте суммарное потребление стран Прибалтики (Латвия, Литва и Эстония) категорий 4, 12 и 21 за период с 2005 по 2010 года. Не учитывайте в расчетах отрицательные значения quantity."
   ]
  },
  {
   "cell_type": "code",
   "execution_count": 110,
   "metadata": {},
   "outputs": [
    {
     "data": {
      "text/plain": [
       "array([ 1,  2,  3,  4,  5,  6,  7,  8,  9, 10, 11, 13, 12, 14, 15, 16, 17,\n",
       "       18, 19, 20, 21, 22, 23, 24, 25, 26, 27, 28, 29, 30, 31, 32, 33, 34,\n",
       "       35, 36, 37, 38, 39, 40, 41, 42, 43, 44, 45, 46, 47, 48, 49, 50, 51,\n",
       "       52, 53, 54, 55, 56, 57, 58, 59, 60, 61, 62, 63, 64, 65, 66, 67, 68,\n",
       "       69, 70, 71])"
      ]
     },
     "execution_count": 110,
     "metadata": {},
     "output_type": "execute_result"
    }
   ],
   "source": [
    "power = pd.read_csv('power.csv')\n",
    "power['category'].unique()\n"
   ]
  },
  {
   "cell_type": "code",
   "execution_count": 137,
   "metadata": {},
   "outputs": [
    {
     "name": "stdout",
     "output_type": "stream",
     "text": [
      "Суммарное потребление стран Прибалтики: 240580.0\n"
     ]
    }
   ],
   "source": [
    "power_baltic = power[ (power['country']=='Lithuania') | (power['country']=='Latvia') | (power['country']=='Estonia') ]\n",
    "power_baltic_categories = power_baltic[ (power_baltic['category']==4) | (power_baltic['category']==12) | (power_baltic['category']==21) ]\n",
    "power_baltic_categories_years = power_baltic_categories[ (power_baltic_categories['year']==2005) | (power_baltic_categories['year']==2006) | (power_baltic_categories['year']==2007) | (power_baltic_categories['year']==2008) | (power_baltic_categories['year']==2009) | (power_baltic_categories['year']==2010)]\n",
    "\n",
    "total_consumption = 0\n",
    "for quantity in power_baltic_categories_years['quantity']:\n",
    "    if quantity > 0:\n",
    "        total_consumption += quantity\n",
    "print('Суммарное потребление стран Прибалтики:', total_consumption)"
   ]
  },
  {
   "cell_type": "markdown",
   "metadata": {},
   "source": [
    "## Задание 3\n",
    "Выберите страницу любого сайта с табличными данными. Импортируйте таблицы в pandas dataframe.\n",
    "Примеры страниц (необязательно брать именно эти):\n",
    "https://fortrader.org/quotes\n",
    "https://www.finanz.ru/valyuty/v-realnom-vremeni"
   ]
  },
  {
   "cell_type": "code",
   "execution_count": 168,
   "metadata": {},
   "outputs": [
    {
     "name": "stdout",
     "output_type": "stream",
     "text": [
      "Размеры листов ISO 216\n",
      "   Формат     Серия A      Серия B     Серия C\n",
      "   Размер          мм           мм          мм\n",
      "0       0  841 × 1189  1000 × 1414  917 × 1297\n",
      "1       1   594 × 841   707 × 1000   648 × 917\n",
      "2       2   420 × 594    500 × 707   458 × 648\n",
      "3       3   297 × 420    353 × 500   324 × 458\n",
      "4       4   210 × 297    250 × 353   229 × 324\n",
      "5       5   148 × 210    176 × 250   162 × 229\n",
      "6       6   105 × 148    125 × 176   114 × 162\n",
      "7       7    74 × 105     88 × 125    81 × 114\n",
      "8       8     52 × 74      62 × 88     57 × 81\n",
      "9       9     37 × 52      44 × 62     40 × 57\n",
      "10     10     26 × 37      31 × 44     28 × 40\n"
     ]
    }
   ],
   "source": [
    "paper_size = pd.read_html('https://ru.wikipedia.org/wiki/%D0%A4%D0%BE%D1%80%D0%BC%D0%B0%D1%82_%D0%B1%D1%83%D0%BC%D0%B0%D0%B3%D0%B8')[0]\n",
    "print('Размеры листов ISO 216', paper_size, sep='\\n')"
   ]
  },
  {
   "cell_type": "code",
   "execution_count": null,
   "metadata": {},
   "outputs": [],
   "source": []
  }
 ],
 "metadata": {
  "kernelspec": {
   "display_name": "Python 3",
   "language": "python",
   "name": "python3"
  },
  "language_info": {
   "codemirror_mode": {
    "name": "ipython",
    "version": 3
   },
   "file_extension": ".py",
   "mimetype": "text/x-python",
   "name": "python",
   "nbconvert_exporter": "python",
   "pygments_lexer": "ipython3",
   "version": "3.7.7"
  }
 },
 "nbformat": 4,
 "nbformat_minor": 4
}
