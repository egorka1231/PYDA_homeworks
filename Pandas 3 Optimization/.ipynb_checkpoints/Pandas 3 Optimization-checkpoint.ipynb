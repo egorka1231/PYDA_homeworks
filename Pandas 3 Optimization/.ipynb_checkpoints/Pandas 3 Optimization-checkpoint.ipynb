{
 "cells": [
  {
   "cell_type": "markdown",
   "metadata": {},
   "source": [
    "## Задание 1\n",
    "Для датафрейма log из материалов занятия создайте столбец source_type по следующим правилам:\n",
    "    \n",
    "- если источник traffic_source равен yandex или google, то в source_type ставится organic\n",
    "- для источников paid и email из России - ставим ad\n",
    "- для источников paid и email не из России - ставим other\n",
    "- все остальные варианты берем из traffic_source без изменений"
   ]
  },
  {
   "cell_type": "code",
   "execution_count": 30,
   "metadata": {},
   "outputs": [],
   "source": [
    "import pandas as pd"
   ]
  },
  {
   "cell_type": "code",
   "execution_count": 31,
   "metadata": {},
   "outputs": [],
   "source": [
    "import numpy as np "
   ]
  },
  {
   "cell_type": "code",
   "execution_count": 74,
   "metadata": {},
   "outputs": [
    {
     "data": {
      "text/html": [
       "<div>\n",
       "<style scoped>\n",
       "    .dataframe tbody tr th:only-of-type {\n",
       "        vertical-align: middle;\n",
       "    }\n",
       "\n",
       "    .dataframe tbody tr th {\n",
       "        vertical-align: top;\n",
       "    }\n",
       "\n",
       "    .dataframe thead th {\n",
       "        text-align: right;\n",
       "    }\n",
       "</style>\n",
       "<table border=\"1\" class=\"dataframe\">\n",
       "  <thead>\n",
       "    <tr style=\"text-align: right;\">\n",
       "      <th></th>\n",
       "      <th>timestamp</th>\n",
       "      <th>visit_id</th>\n",
       "      <th>url</th>\n",
       "      <th>region</th>\n",
       "      <th>user_id</th>\n",
       "      <th>traffic_source</th>\n",
       "    </tr>\n",
       "  </thead>\n",
       "  <tbody>\n",
       "    <tr>\n",
       "      <th>35</th>\n",
       "      <td>1549980908</td>\n",
       "      <td>0d5535e13c</td>\n",
       "      <td>https://host.ru/8880fd00cf23066541</td>\n",
       "      <td>Russia</td>\n",
       "      <td>51baf057bb</td>\n",
       "      <td>email</td>\n",
       "    </tr>\n",
       "    <tr>\n",
       "      <th>39</th>\n",
       "      <td>1549980932</td>\n",
       "      <td>94c11ed3c3</td>\n",
       "      <td>https://host.ru/da83c74e35e7806fe0</td>\n",
       "      <td>Russia</td>\n",
       "      <td>1875754379</td>\n",
       "      <td>yandex</td>\n",
       "    </tr>\n",
       "    <tr>\n",
       "      <th>82</th>\n",
       "      <td>1549981192</td>\n",
       "      <td>10cc3c382b</td>\n",
       "      <td>https://host.ru/c2382eb3d6afc8d0f3</td>\n",
       "      <td>Ukraine</td>\n",
       "      <td>9644780b17</td>\n",
       "      <td>direct</td>\n",
       "    </tr>\n",
       "    <tr>\n",
       "      <th>105</th>\n",
       "      <td>1549981369</td>\n",
       "      <td>523c41464e</td>\n",
       "      <td>https://host.ru/05e41944dd85a900a6</td>\n",
       "      <td>Australia</td>\n",
       "      <td>4f40719179</td>\n",
       "      <td>email</td>\n",
       "    </tr>\n",
       "    <tr>\n",
       "      <th>115</th>\n",
       "      <td>1549981432</td>\n",
       "      <td>23cd67852a</td>\n",
       "      <td>https://host.ru/6fda01ec57f23abc9e</td>\n",
       "      <td>Belarus</td>\n",
       "      <td>4a0f5111cd</td>\n",
       "      <td>google</td>\n",
       "    </tr>\n",
       "  </tbody>\n",
       "</table>\n",
       "</div>"
      ],
      "text/plain": [
       "      timestamp    visit_id                                 url     region  \\\n",
       "35   1549980908  0d5535e13c  https://host.ru/8880fd00cf23066541     Russia   \n",
       "39   1549980932  94c11ed3c3  https://host.ru/da83c74e35e7806fe0     Russia   \n",
       "82   1549981192  10cc3c382b  https://host.ru/c2382eb3d6afc8d0f3    Ukraine   \n",
       "105  1549981369  523c41464e  https://host.ru/05e41944dd85a900a6  Australia   \n",
       "115  1549981432  23cd67852a  https://host.ru/6fda01ec57f23abc9e    Belarus   \n",
       "\n",
       "        user_id traffic_source  \n",
       "35   51baf057bb          email  \n",
       "39   1875754379         yandex  \n",
       "82   9644780b17         direct  \n",
       "105  4f40719179          email  \n",
       "115  4a0f5111cd         google  "
      ]
     },
     "execution_count": 74,
     "metadata": {},
     "output_type": "execute_result"
    }
   ],
   "source": [
    "visits = pd.read_csv('visit_log.csv', sep=';')\n",
    "visits.head()\n",
    "visits[ visits['visit_id'].str.contains('3c', case=False) ].head()"
   ]
  },
  {
   "cell_type": "code",
   "execution_count": 76,
   "metadata": {},
   "outputs": [
    {
     "data": {
      "text/html": [
       "<div>\n",
       "<style scoped>\n",
       "    .dataframe tbody tr th:only-of-type {\n",
       "        vertical-align: middle;\n",
       "    }\n",
       "\n",
       "    .dataframe tbody tr th {\n",
       "        vertical-align: top;\n",
       "    }\n",
       "\n",
       "    .dataframe thead th {\n",
       "        text-align: right;\n",
       "    }\n",
       "</style>\n",
       "<table border=\"1\" class=\"dataframe\">\n",
       "  <thead>\n",
       "    <tr style=\"text-align: right;\">\n",
       "      <th></th>\n",
       "      <th>timestamp</th>\n",
       "      <th>visit_id</th>\n",
       "      <th>url</th>\n",
       "      <th>region</th>\n",
       "      <th>user_id</th>\n",
       "      <th>traffic_source</th>\n",
       "      <th>traffic_type</th>\n",
       "    </tr>\n",
       "  </thead>\n",
       "  <tbody>\n",
       "    <tr>\n",
       "      <th>35</th>\n",
       "      <td>1549980908</td>\n",
       "      <td>0d5535e13c</td>\n",
       "      <td>https://host.ru/8880fd00cf23066541</td>\n",
       "      <td>Russia</td>\n",
       "      <td>51baf057bb</td>\n",
       "      <td>email</td>\n",
       "      <td>ad</td>\n",
       "    </tr>\n",
       "    <tr>\n",
       "      <th>39</th>\n",
       "      <td>1549980932</td>\n",
       "      <td>94c11ed3c3</td>\n",
       "      <td>https://host.ru/da83c74e35e7806fe0</td>\n",
       "      <td>Russia</td>\n",
       "      <td>1875754379</td>\n",
       "      <td>yandex</td>\n",
       "      <td>organic</td>\n",
       "    </tr>\n",
       "    <tr>\n",
       "      <th>82</th>\n",
       "      <td>1549981192</td>\n",
       "      <td>10cc3c382b</td>\n",
       "      <td>https://host.ru/c2382eb3d6afc8d0f3</td>\n",
       "      <td>Ukraine</td>\n",
       "      <td>9644780b17</td>\n",
       "      <td>direct</td>\n",
       "      <td>direct</td>\n",
       "    </tr>\n",
       "    <tr>\n",
       "      <th>105</th>\n",
       "      <td>1549981369</td>\n",
       "      <td>523c41464e</td>\n",
       "      <td>https://host.ru/05e41944dd85a900a6</td>\n",
       "      <td>Australia</td>\n",
       "      <td>4f40719179</td>\n",
       "      <td>email</td>\n",
       "      <td>other</td>\n",
       "    </tr>\n",
       "    <tr>\n",
       "      <th>115</th>\n",
       "      <td>1549981432</td>\n",
       "      <td>23cd67852a</td>\n",
       "      <td>https://host.ru/6fda01ec57f23abc9e</td>\n",
       "      <td>Belarus</td>\n",
       "      <td>4a0f5111cd</td>\n",
       "      <td>google</td>\n",
       "      <td>organic</td>\n",
       "    </tr>\n",
       "  </tbody>\n",
       "</table>\n",
       "</div>"
      ],
      "text/plain": [
       "      timestamp    visit_id                                 url     region  \\\n",
       "35   1549980908  0d5535e13c  https://host.ru/8880fd00cf23066541     Russia   \n",
       "39   1549980932  94c11ed3c3  https://host.ru/da83c74e35e7806fe0     Russia   \n",
       "82   1549981192  10cc3c382b  https://host.ru/c2382eb3d6afc8d0f3    Ukraine   \n",
       "105  1549981369  523c41464e  https://host.ru/05e41944dd85a900a6  Australia   \n",
       "115  1549981432  23cd67852a  https://host.ru/6fda01ec57f23abc9e    Belarus   \n",
       "\n",
       "        user_id traffic_source traffic_type  \n",
       "35   51baf057bb          email           ad  \n",
       "39   1875754379         yandex      organic  \n",
       "82   9644780b17         direct       direct  \n",
       "105  4f40719179          email        other  \n",
       "115  4a0f5111cd         google      organic  "
      ]
     },
     "execution_count": 76,
     "metadata": {},
     "output_type": "execute_result"
    }
   ],
   "source": [
    "source_1 = ['yandex', 'google']\n",
    "source_2 = ['paid', 'email']\n",
    "\n",
    "\n",
    "for traffic_source in source_1: \n",
    "    visits.loc[visits.traffic_source == traffic_source, 'traffic_type'] = 'organic' \n",
    "for traffic_source in source_2: \n",
    "    visits.loc[(visits.traffic_source == traffic_source) & (visits.region == 'Russia'), 'traffic_type'] = 'ad' \n",
    "for traffic_source in source_2: \n",
    "    visits.loc[(visits.traffic_source == traffic_source) & (visits.region != 'Russia'), 'traffic_type'] = 'other' \n",
    "visits.loc[pd.isnull(visits.traffic_type), 'traffic_type'] = visits.traffic_source\n",
    "\n",
    "    \n",
    "visits[ visits['visit_id'].str.contains('3c', case=False) ].head()"
   ]
  },
  {
   "cell_type": "markdown",
   "metadata": {},
   "source": [
    "## Задание 2\n",
    "В файле URLs.txt содержатся url страниц новостного сайта. \n",
    "\n",
    "Вам необходимо отфильтровать его по адресам страниц с текстами новостей. \n",
    "\n",
    "Известно, что шаблон страницы новостей имеет внутри url следующую конструкцию: /, затем 8 цифр, затем дефис. \n",
    "\n",
    "Выполните следующие действия:\n",
    "1. Прочитайте содержимое файла с датафрейм\n",
    "2. Отфильтруйте страницы с текстом новостей, используя метод str.contains и регулярное выражение в соответствии с заданным шаблоном"
   ]
  },
  {
   "cell_type": "code",
   "execution_count": 39,
   "metadata": {},
   "outputs": [],
   "source": [
    "import re"
   ]
  },
  {
   "cell_type": "code",
   "execution_count": 43,
   "metadata": {},
   "outputs": [
    {
     "data": {
      "text/html": [
       "<div>\n",
       "<style scoped>\n",
       "    .dataframe tbody tr th:only-of-type {\n",
       "        vertical-align: middle;\n",
       "    }\n",
       "\n",
       "    .dataframe tbody tr th {\n",
       "        vertical-align: top;\n",
       "    }\n",
       "\n",
       "    .dataframe thead th {\n",
       "        text-align: right;\n",
       "    }\n",
       "</style>\n",
       "<table border=\"1\" class=\"dataframe\">\n",
       "  <thead>\n",
       "    <tr style=\"text-align: right;\">\n",
       "      <th></th>\n",
       "      <th>url</th>\n",
       "    </tr>\n",
       "  </thead>\n",
       "  <tbody>\n",
       "    <tr>\n",
       "      <th>0</th>\n",
       "      <td>/world/</td>\n",
       "    </tr>\n",
       "    <tr>\n",
       "      <th>1</th>\n",
       "      <td>/latest/</td>\n",
       "    </tr>\n",
       "    <tr>\n",
       "      <th>2</th>\n",
       "      <td>/?updated=top</td>\n",
       "    </tr>\n",
       "    <tr>\n",
       "      <th>3</th>\n",
       "      <td>/politics/36188461-s-marta-zhizn-rossiyan-susc...</td>\n",
       "    </tr>\n",
       "    <tr>\n",
       "      <th>4</th>\n",
       "      <td>/world/36007585-tramp-pridumal-kak-reshit-ukra...</td>\n",
       "    </tr>\n",
       "  </tbody>\n",
       "</table>\n",
       "</div>"
      ],
      "text/plain": [
       "                                                 url\n",
       "0                                            /world/\n",
       "1                                           /latest/\n",
       "2                                      /?updated=top\n",
       "3  /politics/36188461-s-marta-zhizn-rossiyan-susc...\n",
       "4  /world/36007585-tramp-pridumal-kak-reshit-ukra..."
      ]
     },
     "execution_count": 43,
     "metadata": {},
     "output_type": "execute_result"
    }
   ],
   "source": [
    "urls = pd.read_csv('URLs.txt')\n",
    "urls.head()"
   ]
  },
  {
   "cell_type": "code",
   "execution_count": 50,
   "metadata": {},
   "outputs": [
    {
     "data": {
      "text/html": [
       "<div>\n",
       "<style scoped>\n",
       "    .dataframe tbody tr th:only-of-type {\n",
       "        vertical-align: middle;\n",
       "    }\n",
       "\n",
       "    .dataframe tbody tr th {\n",
       "        vertical-align: top;\n",
       "    }\n",
       "\n",
       "    .dataframe thead th {\n",
       "        text-align: right;\n",
       "    }\n",
       "</style>\n",
       "<table border=\"1\" class=\"dataframe\">\n",
       "  <thead>\n",
       "    <tr style=\"text-align: right;\">\n",
       "      <th></th>\n",
       "      <th>url</th>\n",
       "    </tr>\n",
       "  </thead>\n",
       "  <tbody>\n",
       "    <tr>\n",
       "      <th>3</th>\n",
       "      <td>/politics/36188461-s-marta-zhizn-rossiyan-susc...</td>\n",
       "    </tr>\n",
       "    <tr>\n",
       "      <th>4</th>\n",
       "      <td>/world/36007585-tramp-pridumal-kak-reshit-ukra...</td>\n",
       "    </tr>\n",
       "    <tr>\n",
       "      <th>5</th>\n",
       "      <td>/science/36157853-nasa-sobiraet-ekstrennuyu-pr...</td>\n",
       "    </tr>\n",
       "    <tr>\n",
       "      <th>6</th>\n",
       "      <td>/video/36001498-poyavilis-pervye-podrobnosti-g...</td>\n",
       "    </tr>\n",
       "    <tr>\n",
       "      <th>7</th>\n",
       "      <td>/world/36007585-tramp-pridumal-kak-reshit-ukra...</td>\n",
       "    </tr>\n",
       "  </tbody>\n",
       "</table>\n",
       "</div>"
      ],
      "text/plain": [
       "                                                 url\n",
       "3  /politics/36188461-s-marta-zhizn-rossiyan-susc...\n",
       "4  /world/36007585-tramp-pridumal-kak-reshit-ukra...\n",
       "5  /science/36157853-nasa-sobiraet-ekstrennuyu-pr...\n",
       "6  /video/36001498-poyavilis-pervye-podrobnosti-g...\n",
       "7  /world/36007585-tramp-pridumal-kak-reshit-ukra..."
      ]
     },
     "execution_count": 50,
     "metadata": {},
     "output_type": "execute_result"
    }
   ],
   "source": [
    "urls[urls.url.str.contains(r'\\/\\d{8}\\-')].head()"
   ]
  },
  {
   "cell_type": "markdown",
   "metadata": {},
   "source": [
    "## Домашнее задание 3\n",
    "\n",
    "В датафрейме data создайте столбец lemmas, в котором вычислите леммы поисковых запросов из столбца keyword. Леммы должны иметь строковый тип.\n"
   ]
  },
  {
   "cell_type": "code",
   "execution_count": 54,
   "metadata": {},
   "outputs": [
    {
     "data": {
      "text/html": [
       "<div>\n",
       "<style scoped>\n",
       "    .dataframe tbody tr th:only-of-type {\n",
       "        vertical-align: middle;\n",
       "    }\n",
       "\n",
       "    .dataframe tbody tr th {\n",
       "        vertical-align: top;\n",
       "    }\n",
       "\n",
       "    .dataframe thead th {\n",
       "        text-align: right;\n",
       "    }\n",
       "</style>\n",
       "<table border=\"1\" class=\"dataframe\">\n",
       "  <thead>\n",
       "    <tr style=\"text-align: right;\">\n",
       "      <th></th>\n",
       "      <th>keyword</th>\n",
       "      <th>shows</th>\n",
       "    </tr>\n",
       "  </thead>\n",
       "  <tbody>\n",
       "    <tr>\n",
       "      <th>0</th>\n",
       "      <td>курс гривны к рублю</td>\n",
       "      <td>125076</td>\n",
       "    </tr>\n",
       "    <tr>\n",
       "      <th>1</th>\n",
       "      <td>доллары в рубли</td>\n",
       "      <td>114173</td>\n",
       "    </tr>\n",
       "    <tr>\n",
       "      <th>2</th>\n",
       "      <td>100 долларов в рублях</td>\n",
       "      <td>97534</td>\n",
       "    </tr>\n",
       "    <tr>\n",
       "      <th>3</th>\n",
       "      <td>курс рубля</td>\n",
       "      <td>53546</td>\n",
       "    </tr>\n",
       "  </tbody>\n",
       "</table>\n",
       "</div>"
      ],
      "text/plain": [
       "                 keyword   shows\n",
       "0    курс гривны к рублю  125076\n",
       "1        доллары в рубли  114173\n",
       "2  100 долларов в рублях   97534\n",
       "3             курс рубля   53546"
      ]
     },
     "execution_count": 54,
     "metadata": {},
     "output_type": "execute_result"
    }
   ],
   "source": [
    "data = pd.DataFrame({\n",
    "    'keyword': ['курс гривны к рублю', 'доллары в рубли', '100 долларов в рублях', 'курс рубля'],\n",
    "    'shows': [125076, 114173, 97534, 53546],\n",
    "})\n",
    "data"
   ]
  },
  {
   "cell_type": "code",
   "execution_count": 52,
   "metadata": {},
   "outputs": [],
   "source": [
    "from pymystem3 import Mystem"
   ]
  },
  {
   "cell_type": "code",
   "execution_count": 67,
   "metadata": {},
   "outputs": [
    {
     "data": {
      "text/html": [
       "<div>\n",
       "<style scoped>\n",
       "    .dataframe tbody tr th:only-of-type {\n",
       "        vertical-align: middle;\n",
       "    }\n",
       "\n",
       "    .dataframe tbody tr th {\n",
       "        vertical-align: top;\n",
       "    }\n",
       "\n",
       "    .dataframe thead th {\n",
       "        text-align: right;\n",
       "    }\n",
       "</style>\n",
       "<table border=\"1\" class=\"dataframe\">\n",
       "  <thead>\n",
       "    <tr style=\"text-align: right;\">\n",
       "      <th></th>\n",
       "      <th>keyword</th>\n",
       "      <th>shows</th>\n",
       "      <th>lemmas</th>\n",
       "    </tr>\n",
       "  </thead>\n",
       "  <tbody>\n",
       "    <tr>\n",
       "      <th>0</th>\n",
       "      <td>курс гривны к рублю</td>\n",
       "      <td>125076</td>\n",
       "      <td>курс   гривна   к   рубль \\n</td>\n",
       "    </tr>\n",
       "    <tr>\n",
       "      <th>1</th>\n",
       "      <td>доллары в рубли</td>\n",
       "      <td>114173</td>\n",
       "      <td>доллар   в   рубль \\n</td>\n",
       "    </tr>\n",
       "    <tr>\n",
       "      <th>2</th>\n",
       "      <td>100 долларов в рублях</td>\n",
       "      <td>97534</td>\n",
       "      <td>100   доллар   в   рубль \\n</td>\n",
       "    </tr>\n",
       "    <tr>\n",
       "      <th>3</th>\n",
       "      <td>курс рубля</td>\n",
       "      <td>53546</td>\n",
       "      <td>курс   рубль \\n</td>\n",
       "    </tr>\n",
       "  </tbody>\n",
       "</table>\n",
       "</div>"
      ],
      "text/plain": [
       "                 keyword   shows                        lemmas\n",
       "0    курс гривны к рублю  125076  курс   гривна   к   рубль \\n\n",
       "1        доллары в рубли  114173         доллар   в   рубль \\n\n",
       "2  100 долларов в рублях   97534   100   доллар   в   рубль \\n\n",
       "3             курс рубля   53546               курс   рубль \\n"
      ]
     },
     "execution_count": 67,
     "metadata": {},
     "output_type": "execute_result"
    }
   ],
   "source": [
    "m = Mystem()\n",
    "def lemmatize(row):\n",
    "    lemmas = m.lemmatize(row['keyword'])\n",
    "    return ' '.join(lemmas)\n",
    "    \n",
    "data['lemmas'] = data.apply(lemmatize, axis=1)\n",
    "data"
   ]
  },
  {
   "cell_type": "code",
   "execution_count": 78,
   "metadata": {},
   "outputs": [
    {
     "name": "stdout",
     "output_type": "stream",
     "text": [
      "<class 'str'>\n",
      "<class 'str'>\n",
      "<class 'str'>\n",
      "<class 'str'>\n"
     ]
    }
   ],
   "source": [
    "for i in data['lemmas']:\n",
    "    print(type(i))"
   ]
  },
  {
   "cell_type": "code",
   "execution_count": null,
   "metadata": {},
   "outputs": [],
   "source": []
  }
 ],
 "metadata": {
  "kernelspec": {
   "display_name": "Python 3",
   "language": "python",
   "name": "python3"
  },
  "language_info": {
   "codemirror_mode": {
    "name": "ipython",
    "version": 3
   },
   "file_extension": ".py",
   "mimetype": "text/x-python",
   "name": "python",
   "nbconvert_exporter": "python",
   "pygments_lexer": "ipython3",
   "version": "3.7.7"
  }
 },
 "nbformat": 4,
 "nbformat_minor": 4
}
