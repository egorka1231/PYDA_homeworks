{
 "cells": [
  {
   "cell_type": "markdown",
   "metadata": {},
   "source": [
    "Вы работаете секретарем и вам постоянно приходят различные документы. Вы должны быть очень внимательны, чтобы не потерять ни один документ. Каталог документов хранится в следующем виде:"
   ]
  },
  {
   "cell_type": "code",
   "execution_count": 1,
   "metadata": {},
   "outputs": [],
   "source": [
    "documents = [\n",
    "    {'type': 'passport', 'number': '2207 876234', 'name': 'Василий Гупкин'},\n",
    "    {'type': 'invoice', 'number': '11-2', 'name': 'Геннадий Покемонов'},\n",
    "    {'type': 'insurance', 'number': '10006', 'name': 'Аристарх Павлов'}\n",
    "]"
   ]
  },
  {
   "cell_type": "markdown",
   "metadata": {},
   "source": [
    "Перечень полок, на которых находятся документы хранится в следующем виде:"
   ]
  },
  {
   "cell_type": "code",
   "execution_count": 2,
   "metadata": {},
   "outputs": [],
   "source": [
    "directories = {\n",
    "    '1': ['2207 876234', '11-2'],\n",
    "    '2': ['10006'],\n",
    "    '3': []\n",
    "}\n"
   ]
  },
  {
   "cell_type": "markdown",
   "metadata": {},
   "source": [
    "Необходимо реализовать пользовательские команды (внимание! это не название функций, которые должны быть выразительными, а команды, которые вводит пользователь, чтобы получить необходимый результат):\n",
    "  \n",
    "- p – people – команда, которая спросит номер документа и выведет имя человека, которому он принадлежит;  \n",
    "- s – shelf – команда, которая спросит номер документа и выведет номер полки, на которой он находится  \n",
    "*Правильно обработайте ситуации, когда пользователь будет вводить несуществующий документ*.\n",
    "- l – list – команда, которая выведет список всех документов в формате   \n",
    "**passport \"2207 876234\" \"Василий Гупкин\"**  \n",
    "- as – add shelf – команда, которая спросит номер новой полки и добавит ее в перечень. *Предусмотрите случай, когда пользователь добавляет полку, которая уже существует*.\n",
    "- d – delete – команда, которая спросит номер документа и удалит его из каталога и из перечня полок. *Предусмотрите сценарий, когда пользователь вводит несуществующий документ*;  \n",
    "- m – move – команда, которая спросит номер документа и целевую полку и переместит его с текущей полки на целевую. *Корректно обработайте кейсы, когда пользователь пытается переместить несуществующий документ или переместить документ на несуществующую полку*;  \n",
    "- a – add – команда, которая добавит новый документ в каталог и в перечень полок, спросив его номер, тип, имя владельца и номер полки, на котором он будет храниться. *Корректно обработайте ситуацию, когда пользователь будет пытаться добавить документ на несуществующую полку*."
   ]
  },
  {
   "cell_type": "code",
   "execution_count": 3,
   "metadata": {},
   "outputs": [],
   "source": [
    "#Вывод человека по номеру документа\n",
    "def doc_to_person():\n",
    "    doc_no = input('Введите номер документа: ')\n",
    "    for document in documents:\n",
    "        if doc_no == document['number']:\n",
    "            return(document['name'])\n",
    "    return('Номер документа не найден! Проверьте правильность ввода!')\n",
    "\n",
    "#Вывод номера полки\n",
    "def doc_to_shelf():\n",
    "    doc_no = input('Введите номер документа: ')\n",
    "    for shelfs, docs in directories.items():\n",
    "        for doc_on_shelf in docs:\n",
    "            if doc_on_shelf == doc_no:\n",
    "                return(shelfs)\n",
    "    return('Номер документа не найден! Проверьте правильность ввода!')\n",
    "\n",
    "#Вывести список документов\n",
    "def show_list():\n",
    "    for document in documents:\n",
    "        result = ' '.join(document.values())\n",
    "        print(result)\n",
    "\n",
    "#добавление полки\n",
    "def add_shelf():\n",
    "    shelf_no = input('Введите номер новой полки: ')\n",
    "    for shelfs in directories.keys():\n",
    "        if shelf_no in directories.keys():\n",
    "            return('такая полка уже существует!!')\n",
    "        else:\n",
    "            directories[shelf_no] = []\n",
    "            return('создана новая полка:', shelf_no)\n",
    "        \n",
    "#Удаление документа\n",
    "##Удаление из перечня\n",
    "def delete_doc_in_documents(doc_no):\n",
    "    for document in range(len(documents)):\n",
    "        if doc_no in documents[document]['number']:\n",
    "            del documents[document]\n",
    "            return (\"Был удален документ №:\", doc_no)\n",
    "            break\n",
    "    return (\"Нет такого документа!\") \n",
    "##Удаление с полки\n",
    "def delete_doc_in_directories(doc_no):  \n",
    "    for shelfs, documents in directories.items():\n",
    "        for doc_on_shelf in documents:\n",
    "            if doc_no == doc_on_shelf:\n",
    "                documents.remove(doc_on_shelf)\n",
    "                return('Документ удален с полки №:', shelfs)\n",
    "            \n",
    "    return('На полках документа тоже не найдено!')\n",
    "\n",
    "#Перемещение документа между полок\n",
    "def move_document():\n",
    "    doc_no = input('Введите номер документа: ')\n",
    "    shelf_no = input('Введите номер полки, на которую переставляем документ: ')\n",
    "    count_shelfs = 0\n",
    "    count_doc = 0\n",
    "    for shelfs, docs in directories.items():\n",
    "        if shelf_no == shelfs:\n",
    "            count_shelfs += 1      \n",
    "        for doc_on_shelf in docs:\n",
    "            if doc_on_shelf == doc_no:\n",
    "                count_doc += 1   \n",
    "    if count_doc == 0:\n",
    "        return('Такого документа нет!')\n",
    "    if count_shelfs == 0:\n",
    "        return('Такой полки нет!')\n",
    "    else:\n",
    "        for shelfs, docs in directories.items():\n",
    "            if doc_no in docs:\n",
    "                docs.remove(doc_no)\n",
    "                directories[shelf_no].append(doc_no)\n",
    "                a = ['Документ №', doc_no, 'был перенесен с полки', shelfs, 'на полку', shelf_no]\n",
    "                return ' '.join(map(str, a))\n",
    "\n",
    "#Добавление нового документа\n",
    "def add_document():\n",
    "    doc_no = input('Введите номер документа: ')\n",
    "    doc_type = input('Введите тип документа: ')\n",
    "    doc_owner = input('Введите имя владельца: ')\n",
    "    shelf_no = input('Введите номер полки, на которую ставим документ: ')\n",
    "    count_shelfs = 0\n",
    "    for shelfs, docs in directories.items():\n",
    "        if shelf_no == shelfs:\n",
    "                count_shelfs += 1\n",
    "    if count_shelfs == 0:\n",
    "        return('Такой полки нет!')\n",
    "    \n",
    "    documents.append({'type': doc_type, 'number': doc_no, 'name': doc_owner})\n",
    "    for docs in directories.values():\n",
    "        directories[shelf_no].append(doc_no)   \n",
    "        break\n",
    "    result = ['На полку', shelf_no, 'был добавлен документ №',doc_no, 'тип:', doc_type, ', Владелец:', doc_owner]\n",
    "    return ' '.join(map(str, result))"
   ]
  },
  {
   "cell_type": "code",
   "execution_count": 4,
   "metadata": {},
   "outputs": [
    {
     "name": "stdout",
     "output_type": "stream",
     "text": [
      "Введите команду: l\n",
      "Документы в наличии:\n",
      "passport 2207 876234 Василий Гупкин\n",
      "invoice 11-2 Геннадий Покемонов\n",
      "insurance 10006 Аристарх Павлов\n"
     ]
    }
   ],
   "source": [
    "user_input = input('Введите команду: ')\n",
    "if user_input == 'p':\n",
    "    print('Владелец:', doc_to_person())\n",
    "elif user_input == 's':\n",
    "    print('Полка №:', doc_to_shelf())\n",
    "elif user_input == 'l':\n",
    "    print('Документы в наличии:')\n",
    "    show_list()\n",
    "elif user_input == 'as':\n",
    "    print(add_shelf())\n",
    "elif user_input == 'd':\n",
    "    doc_no = input('Введите номер документа: ')\n",
    "    print(delete_doc_in_documents(doc_no))\n",
    "    print(delete_doc_in_directories(doc_no))\n",
    "elif user_input == 'm':\n",
    "    print(move_document())\n",
    "elif user_input == 'a':\n",
    "    print(add_document())\n",
    "else:\n",
    "    print('Введите верную команду!')\n"
   ]
  },
  {
   "cell_type": "code",
   "execution_count": 5,
   "metadata": {},
   "outputs": [
    {
     "name": "stdout",
     "output_type": "stream",
     "text": [
      "{'1': ['2207 876234', '11-2'], '2': ['10006'], '3': []}\n"
     ]
    }
   ],
   "source": [
    "print(directories)"
   ]
  },
  {
   "cell_type": "code",
   "execution_count": 6,
   "metadata": {},
   "outputs": [
    {
     "name": "stdout",
     "output_type": "stream",
     "text": [
      "[{'type': 'passport', 'number': '2207 876234', 'name': 'Василий Гупкин'}, {'type': 'invoice', 'number': '11-2', 'name': 'Геннадий Покемонов'}, {'type': 'insurance', 'number': '10006', 'name': 'Аристарх Павлов'}]\n"
     ]
    }
   ],
   "source": [
    "print(documents)"
   ]
  },
  {
   "cell_type": "code",
   "execution_count": null,
   "metadata": {},
   "outputs": [],
   "source": []
  }
 ],
 "metadata": {
  "kernelspec": {
   "display_name": "Python 3",
   "language": "python",
   "name": "python3"
  },
  "language_info": {
   "codemirror_mode": {
    "name": "ipython",
    "version": 3
   },
   "file_extension": ".py",
   "mimetype": "text/x-python",
   "name": "python",
   "nbconvert_exporter": "python",
   "pygments_lexer": "ipython3",
   "version": "3.7.7"
  }
 },
 "nbformat": 4,
 "nbformat_minor": 2
}
