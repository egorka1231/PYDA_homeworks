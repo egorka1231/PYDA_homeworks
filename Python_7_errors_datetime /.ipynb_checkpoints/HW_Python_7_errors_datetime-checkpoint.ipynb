{
 "cells": [
  {
   "cell_type": "markdown",
   "metadata": {},
   "source": [
    "**Задание 1**\n",
    "\n",
    "Печатные газеты использовали свой формат дат для каждого выпуска. Для каждой газеты из списка напишите формат указанной даты для перевода в объект datetime:\n",
    "\n",
    "The Moscow Times - Wednesday, October 2, 2002\n",
    "\n",
    "The Guardian - Friday, 11.10.13\n",
    "\n",
    "Daily News - Thursday, 18 August 1977\n",
    "\n"
   ]
  },
  {
   "cell_type": "code",
   "execution_count": 41,
   "metadata": {},
   "outputs": [
    {
     "name": "stdout",
     "output_type": "stream",
     "text": [
      "{'The Moscow Times ': 'Wednesday, October 2, 2002', 'The Guardian ': 'Friday, 11.10.13', 'Daily News ': 'Thursday, 18 August 1977'}\n",
      "2002-10-02 00:00:00\n",
      "<class 'datetime.datetime'>\n",
      "2013-10-11 00:00:00\n",
      "<class 'datetime.datetime'>\n",
      "1977-08-18 00:00:00\n",
      "<class 'datetime.datetime'>\n"
     ]
    }
   ],
   "source": [
    "from datetime import datetime\n",
    "newspapers = 'The Moscow Times - Wednesday, October 2, 2002; The Guardian - Friday, 11.10.13; Daily News - Thursday, 18 August 1977'\n",
    "# for x in newspapers.split('; '):\n",
    "#     print(x)\n",
    "\n",
    "newspapers_dict = dict(x.split(\"- \") for x in newspapers.split(\"; \"))\n",
    "print(newspapers_dict)\n",
    "\n",
    "for name, date in newspapers_dict.items():\n",
    "    if 'The Moscow Times' in name:\n",
    "        date = datetime.strptime(date, '%A, %B %d, %Y')\n",
    "        print(date)\n",
    "        \n",
    "    elif 'The Guardian' in name:\n",
    "        date = datetime.strptime(date, '%A, %d.%m.%y')\n",
    "        print(date)\n",
    "        \n",
    "    elif 'Daily News' in name:\n",
    "        date = datetime.strptime(date, '%A, %d %B %Y')\n",
    "        print(date)\n",
    "    print(type(date))"
   ]
  },
  {
   "cell_type": "markdown",
   "metadata": {},
   "source": [
    "\n",
    "**Задание 2**\n",
    "\n",
    "Дан поток дат в формате YYYY-MM-DD, в которых встречаются некорректные значения:\n",
    "stream = ['2018-04-02', '2018-02-29', '2018-19-02']\n",
    "\n",
    "Напишите функцию, которая проверяет эти даты на корректность. Т. е. для каждой даты возвращает True (дата корректна) или False (некорректная дата). \n",
    "\n"
   ]
  },
  {
   "cell_type": "code",
   "execution_count": 70,
   "metadata": {},
   "outputs": [
    {
     "name": "stdout",
     "output_type": "stream",
     "text": [
      "Дата 2018-04-02 00:00:00 в верном формате!\n",
      "Дата 2018-02-29 в неверном формате!\n",
      "Дата 2018-19-02 в неверном формате!\n",
      "Дата 2sdgdsg в неверном формате!\n",
      "Дата 2021-04-15 00:00:00 в верном формате!\n"
     ]
    }
   ],
   "source": [
    "stream = ['2018-04-02', '2018-02-29', '2018-19-02', '2sdgdsg', '2021-04-15']\n",
    "for date in stream:\n",
    "    try:\n",
    "        date = datetime.strptime(date, '%Y-%m-%d')\n",
    "        print('Дата', date, 'в верном формате!')\n",
    "    except:\n",
    "        print('Дата', date, 'в неверном формате!')"
   ]
  },
  {
   "cell_type": "markdown",
   "metadata": {},
   "source": [
    "\n",
    "**Задание 3**\n",
    "\n",
    "Напишите функцию date_range, которая возвращает список дат за период от start_date до end_date. Даты должны вводиться в формате YYYY-MM-DD. В случае неверного формата или при start_date > end_date должен возвращаться пустой список.\n",
    "\n",
    "\n"
   ]
  },
  {
   "cell_type": "code",
   "execution_count": 7,
   "metadata": {},
   "outputs": [
    {
     "name": "stdout",
     "output_type": "stream",
     "text": [
      "Введите начальную дату дату в формате YYYY-MM-DD: 2019-12-20\n",
      "Введите конечную дату дату в формате YYYY-MM-DD: 2020-01-08\n",
      "['2019-12-21', '2019-12-22', '2019-12-23', '2019-12-24', '2019-12-25', '2019-12-26', '2019-12-27', '2019-12-28', '2019-12-29', '2019-12-30', '2019-12-31', '2020-01-01', '2020-01-02', '2020-01-03', '2020-01-04', '2020-01-05', '2020-01-06', '2020-01-07']\n"
     ]
    }
   ],
   "source": [
    "from datetime import timedelta\n",
    "def date_range():\n",
    "    date_delta = []\n",
    "    start_date = input('Введите начальную дату дату в формате YYYY-MM-DD: ')\n",
    "    end_date = input('Введите конечную дату дату в формате YYYY-MM-DD: ')\n",
    "    try:\n",
    "        start_date = datetime.strptime(start_date, '%Y-%m-%d')\n",
    "        end_date = datetime.strptime(end_date, '%Y-%m-%d')\n",
    "    #     print(start_date)\n",
    "    #     print(end_date)\n",
    "\n",
    "    #     if start_date > end_date:\n",
    "    #         return date_delta\n",
    "        day = start_date\n",
    "        while day <= end_date:\n",
    "    #         print(day.strftime('%Y-%m-%d'))\n",
    "            day += timedelta(days=1)\n",
    "            date_delta.append(day.strftime('%Y-%m-%d'))\n",
    "        date_delta = date_delta[:-2]\n",
    "        return date_delta\n",
    "    except:\n",
    "        return date_delta\n",
    "    \n",
    "print(date_range())\n"
   ]
  },
  {
   "cell_type": "markdown",
   "metadata": {},
   "source": [
    "**Задание 4 (бонусное)**\n",
    "\n",
    "Ваш коллега прислал код функции:\n",
    "\n",
    "DEFAULT_USER_COUNT = 3\n",
    "\n",
    "def delete_and_return_last_user(region, default_list=['A100', 'A101', 'A102']):\n",
    "    \"\"\"\n",
    "    Удаляет из списка default_list последнего пользователя \n",
    "    и возвращает ID нового последнего пользователя.\n",
    "    \"\"\"\n",
    "    element_to_delete = default_list[-1]\n",
    "    default_list.remove(element_to_delete)\n",
    "    \n",
    "    return default_list[DEFAULT_USER_COUNT-2]\n",
    "\n",
    "При однократном вызове этой функции все работает корректно:\n",
    "delete_and_return_last_user(1)\n",
    "'A101'\n",
    "\n",
    "Однако, при повторном вызове получается ошибка IndexError: list index out of range.\n",
    "\n",
    "Задание:\n",
    "1. Что значит ошибка list index out of range?\n",
    "2. Почему при первом запуске функция работает корректно, а при втором - нет?"
   ]
  },
  {
   "cell_type": "markdown",
   "metadata": {},
   "source": [
    "1. ошибка означает, что работа функции выходит за границы заданного списка и не может работать корректно\n",
    "2. Из-за того, что в прошлый раз функиця удалила одного из пользователей, теперь в списке осталось на одного меньше, и после вычета последнего пользователя (из двух), в списке останется только один. А так как вывестись нам должен последний пользователь (под номером \"1\", т.е второй), то функция не может его определить"
   ]
  },
  {
   "cell_type": "code",
   "execution_count": null,
   "metadata": {},
   "outputs": [],
   "source": []
  }
 ],
 "metadata": {
  "kernelspec": {
   "display_name": "Python 3",
   "language": "python",
   "name": "python3"
  },
  "language_info": {
   "codemirror_mode": {
    "name": "ipython",
    "version": 3
   },
   "file_extension": ".py",
   "mimetype": "text/x-python",
   "name": "python",
   "nbconvert_exporter": "python",
   "pygments_lexer": "ipython3",
   "version": "3.7.7"
  }
 },
 "nbformat": 4,
 "nbformat_minor": 4
}
